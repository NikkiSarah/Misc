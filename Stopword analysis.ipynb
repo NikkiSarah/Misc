{
 "cells": [
  {
   "cell_type": "markdown",
   "id": "6c1fbedc-965f-46e1-96e3-8e9f49ca0763",
   "metadata": {},
   "source": [
    "## **Python (plus Stanford Core NLP) Stopword List Analysis**"
   ]
  },
  {
   "cell_type": "markdown",
   "id": "657d40ec-72b0-4dc2-8579-3f38a064377f",
   "metadata": {},
   "source": [
    "In Python, there are just four main ones:\n",
    "- gensim\n",
    "- nltk\n",
    "- sklearn\n",
    "- spacy\n",
    "\n",
    "In R, there are many more available:\n",
    "- *lexicon*\n",
    "    - Leveled Dolch list of 220 words\n",
    "    - Fry's most commonly used words (25 to 1000)\n",
    "    - Matthew-Jocker's expanded topic modelling list\n",
    "    - Loughran-McDonald short and long\n",
    "    - Lucerne\n",
    "    - MALLET\n",
    "    - Python\n",
    "- *stopwords*\n",
    "    - marimo\n",
    "    - nltk\n",
    "    - stopwords-iso\n",
    "- *tidytext*\n",
    "    - onix\n",
    "- *tm / quanteda tidytext / stopwords*\n",
    "    - smart\n",
    "    - snowball"
   ]
  },
  {
   "cell_type": "code",
   "execution_count": 1,
   "id": "f116d2b8-8056-4794-a42a-07455337b857",
   "metadata": {},
   "outputs": [],
   "source": [
    "# import libraries and stopword lists\n",
    "import en_core_web_sm\n",
    "import matplotlib.pyplot as plt\n",
    "import numpy as np\n",
    "import pandas as pd\n",
    "import seaborn as sns\n",
    "\n",
    "from collections import Counter\n",
    "from gensim.parsing.preprocessing import STOPWORDS\n",
    "from nltk.corpus import stopwords\n",
    "from sklearn.feature_extraction.text import ENGLISH_STOP_WORDS"
   ]
  },
  {
   "cell_type": "code",
   "execution_count": 2,
   "id": "6e73a875-f8d1-4cff-91ef-67a7b4e1a8e5",
   "metadata": {},
   "outputs": [],
   "source": [
    "# gensim stopwords\n",
    "gensim_sw = set(STOPWORDS)\n",
    "gensim_sw_series = pd.Series(list(gensim_sw)).sort_values()\n",
    "\n",
    "# nltk stopwords\n",
    "nltk_sw = set(stopwords.words('english'))\n",
    "nltk_sw_series = pd.Series(list(nltk_sw)).sort_values()\n",
    "\n",
    "# sklearn #\n",
    "sklearn_sw = set(ENGLISH_STOP_WORDS)\n",
    "sklearn_sw_series = pd.Series(list(sklearn_sw)).sort_values()\n",
    "\n",
    "# spacy stopwords\n",
    "nlp = en_core_web_sm.load()\n",
    "spacy_sw = nlp.Defaults.stop_words\n",
    "spacy_sw_series = pd.Series(list(spacy_sw)).sort_values()\n",
    "\n",
    "# Stanford Core NLP stopword list\n",
    "with open('coreNLP_stopwords.txt', 'r') as f:\n",
    "    lines = f.read().splitlines()\n",
    "coreNLP_sw_series = pd.Series(lines).sort_values()"
   ]
  },
  {
   "cell_type": "code",
   "execution_count": 3,
   "id": "ec9daa86-45dd-427d-81b6-d764f373e923",
   "metadata": {},
   "outputs": [
    {
     "name": "stdout",
     "output_type": "stream",
     "text": [
      "Across the five lists, there are 516 unique stopwords\n"
     ]
    }
   ],
   "source": [
    "# concatenate all the lists together and determine the total number of unique stopwords\n",
    "frames = [coreNLP_sw_series, gensim_sw_series, nltk_sw_series, sklearn_sw_series, spacy_sw_series]\n",
    "all_stopwords = pd.concat(frames)\n",
    "\n",
    "all_unique_stopwords = set(all_stopwords)\n",
    "print(\"Across the five lists, there are \" + str(len(all_unique_stopwords)) + \" unique stopwords\")"
   ]
  },
  {
   "cell_type": "code",
   "execution_count": 4,
   "id": "5724f8a0-d45e-48b9-92fd-db45d999411a",
   "metadata": {},
   "outputs": [
    {
     "data": {
      "text/html": [
       "<div>\n",
       "<style scoped>\n",
       "    .dataframe tbody tr th:only-of-type {\n",
       "        vertical-align: middle;\n",
       "    }\n",
       "\n",
       "    .dataframe tbody tr th {\n",
       "        vertical-align: top;\n",
       "    }\n",
       "\n",
       "    .dataframe thead th {\n",
       "        text-align: right;\n",
       "    }\n",
       "</style>\n",
       "<table border=\"1\" class=\"dataframe\">\n",
       "  <thead>\n",
       "    <tr style=\"text-align: right;\">\n",
       "      <th></th>\n",
       "      <th>count</th>\n",
       "    </tr>\n",
       "  </thead>\n",
       "  <tbody>\n",
       "    <tr>\n",
       "      <th>its</th>\n",
       "      <td>6</td>\n",
       "    </tr>\n",
       "    <tr>\n",
       "      <th>were</th>\n",
       "      <td>6</td>\n",
       "    </tr>\n",
       "    <tr>\n",
       "      <th>very</th>\n",
       "      <td>5</td>\n",
       "    </tr>\n",
       "    <tr>\n",
       "      <th>is</th>\n",
       "      <td>5</td>\n",
       "    </tr>\n",
       "    <tr>\n",
       "      <th>itself</th>\n",
       "      <td>5</td>\n",
       "    </tr>\n",
       "    <tr>\n",
       "      <th>...</th>\n",
       "      <td>...</td>\n",
       "    </tr>\n",
       "    <tr>\n",
       "      <th>they're</th>\n",
       "      <td>1</td>\n",
       "    </tr>\n",
       "    <tr>\n",
       "      <th>they've</th>\n",
       "      <td>1</td>\n",
       "    </tr>\n",
       "    <tr>\n",
       "      <th>theyll</th>\n",
       "      <td>1</td>\n",
       "    </tr>\n",
       "    <tr>\n",
       "      <th>theyre</th>\n",
       "      <td>1</td>\n",
       "    </tr>\n",
       "    <tr>\n",
       "      <th>’ve</th>\n",
       "      <td>1</td>\n",
       "    </tr>\n",
       "  </tbody>\n",
       "</table>\n",
       "<p>516 rows × 1 columns</p>\n",
       "</div>"
      ],
      "text/plain": [
       "         count\n",
       "its          6\n",
       "were         6\n",
       "very         5\n",
       "is           5\n",
       "itself       5\n",
       "...        ...\n",
       "they're      1\n",
       "they've      1\n",
       "theyll       1\n",
       "theyre       1\n",
       "’ve          1\n",
       "\n",
       "[516 rows x 1 columns]"
      ]
     },
     "execution_count": 4,
     "metadata": {},
     "output_type": "execute_result"
    }
   ],
   "source": [
    "# count the number of times each stopword appears\n",
    "sw_freq = Counter(all_stopwords)\n",
    "freq_df = pd.DataFrame.from_dict(sw_freq, orient='index', columns=['count']).sort_values(by=['count'], ascending=False)\n",
    "freq_df"
   ]
  },
  {
   "cell_type": "code",
   "execution_count": 5,
   "id": "d3e06a62-c587-4cc7-844c-3390bbc9cbf7",
   "metadata": {},
   "outputs": [
    {
     "data": {
      "text/html": [
       "<div>\n",
       "<style scoped>\n",
       "    .dataframe tbody tr th:only-of-type {\n",
       "        vertical-align: middle;\n",
       "    }\n",
       "\n",
       "    .dataframe tbody tr th {\n",
       "        vertical-align: top;\n",
       "    }\n",
       "\n",
       "    .dataframe thead th {\n",
       "        text-align: right;\n",
       "    }\n",
       "</style>\n",
       "<table border=\"1\" class=\"dataframe\">\n",
       "  <thead>\n",
       "    <tr style=\"text-align: right;\">\n",
       "      <th></th>\n",
       "      <th>list</th>\n",
       "      <th>num_items</th>\n",
       "    </tr>\n",
       "  </thead>\n",
       "  <tbody>\n",
       "    <tr>\n",
       "      <th>0</th>\n",
       "      <td>coreNLP</td>\n",
       "      <td>257</td>\n",
       "    </tr>\n",
       "    <tr>\n",
       "      <th>1</th>\n",
       "      <td>gensim</td>\n",
       "      <td>337</td>\n",
       "    </tr>\n",
       "    <tr>\n",
       "      <th>2</th>\n",
       "      <td>nltk</td>\n",
       "      <td>179</td>\n",
       "    </tr>\n",
       "    <tr>\n",
       "      <th>3</th>\n",
       "      <td>sklearn</td>\n",
       "      <td>318</td>\n",
       "    </tr>\n",
       "    <tr>\n",
       "      <th>4</th>\n",
       "      <td>spacy</td>\n",
       "      <td>326</td>\n",
       "    </tr>\n",
       "  </tbody>\n",
       "</table>\n",
       "</div>"
      ],
      "text/plain": [
       "      list  num_items\n",
       "0  coreNLP        257\n",
       "1   gensim        337\n",
       "2     nltk        179\n",
       "3  sklearn        318\n",
       "4    spacy        326"
      ]
     },
     "execution_count": 5,
     "metadata": {},
     "output_type": "execute_result"
    }
   ],
   "source": [
    "# data sitting behind the first figure\n",
    "sw_lists = {'list': ['coreNLP', 'gensim', 'nltk', 'sklearn', 'spacy'],\n",
    "            'num_items': [coreNLP_sw_series.shape[0], len(gensim_sw), len(nltk_sw), len(sklearn_sw), len(spacy_sw)]}\n",
    "\n",
    "sw_list_lengths = pd.DataFrame(sw_lists)\n",
    "sw_list_lengths"
   ]
  },
  {
   "cell_type": "code",
   "execution_count": 6,
   "id": "e69bb5a2-7556-4576-b58a-249b2e986720",
   "metadata": {},
   "outputs": [
    {
     "data": {
      "text/html": [
       "<div>\n",
       "<style scoped>\n",
       "    .dataframe tbody tr th:only-of-type {\n",
       "        vertical-align: middle;\n",
       "    }\n",
       "\n",
       "    .dataframe tbody tr th {\n",
       "        vertical-align: top;\n",
       "    }\n",
       "\n",
       "    .dataframe thead th {\n",
       "        text-align: right;\n",
       "    }\n",
       "</style>\n",
       "<table border=\"1\" class=\"dataframe\">\n",
       "  <thead>\n",
       "    <tr style=\"text-align: right;\">\n",
       "      <th></th>\n",
       "      <th>num_lists</th>\n",
       "      <th>count</th>\n",
       "    </tr>\n",
       "  </thead>\n",
       "  <tbody>\n",
       "    <tr>\n",
       "      <th>0</th>\n",
       "      <td>1</td>\n",
       "      <td>155</td>\n",
       "    </tr>\n",
       "    <tr>\n",
       "      <th>1</th>\n",
       "      <td>2</td>\n",
       "      <td>63</td>\n",
       "    </tr>\n",
       "    <tr>\n",
       "      <th>2</th>\n",
       "      <td>3</td>\n",
       "      <td>173</td>\n",
       "    </tr>\n",
       "    <tr>\n",
       "      <th>3</th>\n",
       "      <td>4</td>\n",
       "      <td>10</td>\n",
       "    </tr>\n",
       "    <tr>\n",
       "      <th>4</th>\n",
       "      <td>5</td>\n",
       "      <td>113</td>\n",
       "    </tr>\n",
       "    <tr>\n",
       "      <th>5</th>\n",
       "      <td>6</td>\n",
       "      <td>2</td>\n",
       "    </tr>\n",
       "  </tbody>\n",
       "</table>\n",
       "</div>"
      ],
      "text/plain": [
       "   num_lists  count\n",
       "0          1    155\n",
       "1          2     63\n",
       "2          3    173\n",
       "3          4     10\n",
       "4          5    113\n",
       "5          6      2"
      ]
     },
     "execution_count": 6,
     "metadata": {},
     "output_type": "execute_result"
    }
   ],
   "source": [
    "# data sitting behind the second figure\n",
    "grouped_freq_df = pd.DataFrame(freq_df.groupby(['count']).size().reset_index())\n",
    "grouped_freq_df.columns = ['num_lists', 'count']\n",
    "grouped_freq_df"
   ]
  },
  {
   "cell_type": "code",
   "execution_count": 7,
   "id": "f2010b2b-0e4a-48d0-8763-f390c6a836f4",
   "metadata": {},
   "outputs": [
    {
     "data": {
      "image/png": "[encoded data removed]",
      "text/plain": [
       "<Figure size 2160x576 with 2 Axes>"
      ]
     },
     "metadata": {
      "needs_background": "light"
     },
     "output_type": "display_data"
    }
   ],
   "source": [
    "# ensures figures are plotted automatically; the alternative is to add the command plt.show() at the end of every figure\n",
    "%matplotlib inline\n",
    "\n",
    "# barchart of the total number of words in each stopword list\n",
    "fig, axs = plt.subplots(1,2, figsize=(30,8))\n",
    "p = sns.barplot(ax=axs[0], x=sw_lists['list'], y=sw_lists['num_items'], palette='Blues_d')\n",
    "p.spines['right'].set_visible(False)\n",
    "p.spines['top'].set_visible(False)\n",
    "p.set_xlabel(\"List source\")\n",
    "p.set_ylabel(\"Number of items\")\n",
    "p2 = sns.countplot(ax=axs[1], data = freq_df, x='count', palette='Blues_d')\n",
    "p2.spines['right'].set_visible(False)\n",
    "p2.spines['top'].set_visible(False)\n",
    "p2.set_xlabel(\"Number of lists\")\n",
    "p2.set_ylabel(\"Frequency\");"
   ]
  }
 ],
 "metadata": {
  "kernelspec": {
   "display_name": "interview_nlp",
   "language": "python",
   "name": "interview_nlp"
  },
  "language_info": {
   "codemirror_mode": {
    "name": "ipython",
    "version": 3
   },
   "file_extension": ".py",
   "mimetype": "text/x-python",
   "name": "python",
   "nbconvert_exporter": "python",
   "pygments_lexer": "ipython3",
   "version": "3.9.6"
  }
 },
 "nbformat": 4,
 "nbformat_minor": 5
}
